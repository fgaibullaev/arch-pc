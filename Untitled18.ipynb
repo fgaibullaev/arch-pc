{
  "nbformat": 4,
  "nbformat_minor": 0,
  "metadata": {
    "colab": {
      "provenance": [],
      "authorship_tag": "ABX9TyO8fPjF3zpOgW/wpPmBkpwu",
      "include_colab_link": true
    },
    "kernelspec": {
      "name": "python3",
      "display_name": "Python 3"
    },
    "language_info": {
      "name": "python"
    }
  },
  "cells": [
    {
      "cell_type": "markdown",
      "metadata": {
        "id": "view-in-github",
        "colab_type": "text"
      },
      "source": [
        "<a href=\"https://colab.research.google.com/github/fgaibullaev/arch-pc/blob/master/Untitled18.ipynb\" target=\"_parent\"><img src=\"https://colab.research.google.com/assets/colab-badge.svg\" alt=\"Open In Colab\"/></a>"
      ]
    },
    {
      "cell_type": "code",
      "source": [
        "import numpy as np\n",
        "import matplotlib.pyplot as plt\n",
        "\n",
        "# Определяем функцию, представляющую дифференциальное уравнение\n",
        "def differential_equation(x, y, y_prev):\n",
        "    # Пример: dy/dx = y - x^2 + 1\n",
        "        return y - x**2 + 1\n",
        "\n",
        "        # Функция для интеграции методом Эйлера\n",
        "        def euler_integration(func, initial_x, initial_y, step, final_x):\n",
        "            x_values = []\n",
        "                y_values = []\n",
        "\n",
        "                        x = initial_x\n",
        "                            y = initial_y\n",
        "\n",
        "                                    while x <= final_x:\n",
        "                                            x_values.append(x)\n",
        "                                                    y_values.append(y)\n",
        "\n",
        "                                                                    # Вычисляем производную\n",
        "                                                                            dy = func(x, y, y)  # Здесь y_prev можно не использовать\n",
        "                                                                                    # Обновляем значение y по методу Эйлера\n",
        "                                                                                            y += dy * step\n",
        "                                                                                                    # Обновляем значение x\n",
        "                                                                                                            x += step\n",
        "\n",
        "                                                                                                                    return x_values, y_values\n",
        "\n",
        "                                                                                                                    # Начальные параметры\n",
        "                                                                                                                    initial_x = 0.0\n",
        "                                                                                                                    initial_y = 1.1\n",
        "                                                                                                                    step = 0.1\n",
        "                                                                                                                    final_x = 1.0\n",
        "\n",
        "                                                                                                                    # Выполняем интеграцию\n",
        "                                                                                                                    x_values, y_values = euler_integration(differential_equation, initial_x, initial_y, step, final_x)\n",
        "\n",
        "                                                                                                                    # Выводим результаты\n",
        "                                                                                                                    for x, y in zip(x_values, y_values):\n",
        "                                                                                                                        print(f\"x = {x:.1f}, y = {y:.4f}\")\n",
        "\n",
        "                                                                                                                        # Визуализируем результаты\n",
        "                                                                                                                        plt.plot(x_values, y_values, marker='o')\n",
        "                                                                                                                        plt.title(\"Решение ОДУ методом Эйлера\")\n",
        "                                                                                                                        plt.xlabel(\"x\")\n",
        "                                                                                                                        plt.ylabel(\"y\")\n",
        "                                                                                                                        plt.grid()\n",
        "                                                                                                                        plt.show()"
      ],
      "metadata": {
        "colab": {
          "base_uri": "https://localhost:8080/",
          "height": 106
        },
        "id": "3MQxRjPYmc1F",
        "outputId": "9447c066-0685-47f5-9c67-d86a9c468d33"
      },
      "execution_count": 4,
      "outputs": [
        {
          "output_type": "error",
          "ename": "IndentationError",
          "evalue": "unexpected indent (<ipython-input-4-7bcf47426834>, line 12)",
          "traceback": [
            "\u001b[0;36m  File \u001b[0;32m\"<ipython-input-4-7bcf47426834>\"\u001b[0;36m, line \u001b[0;32m12\u001b[0m\n\u001b[0;31m    y_values = []\u001b[0m\n\u001b[0m    ^\u001b[0m\n\u001b[0;31mIndentationError\u001b[0m\u001b[0;31m:\u001b[0m unexpected indent\n"
          ]
        }
      ]
    }
  ]
}